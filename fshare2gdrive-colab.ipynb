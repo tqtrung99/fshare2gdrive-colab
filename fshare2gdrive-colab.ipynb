{
  "nbformat": 4,
  "nbformat_minor": 0,
  "metadata": {
    "colab": {
      "name": "fshare2gdrive-colab.ipynb",
      "provenance": [],
      "collapsed_sections": []
    },
    "kernelspec": {
      "name": "python3",
      "display_name": "Python 3"
    },
    "language_info": {
      "name": "python"
    }
  },
  "cells": [
    {
      "cell_type": "code",
      "metadata": {
        "cellView": "form",
        "id": "gUFAoBNfYbRH"
      },
      "source": [
        "#@markdown <h1>Mount Google Drive</h3>\n",
        "import os, uuid; import ipywidgets as widgets\n",
        "from IPython.display import clear_output\n",
        "from google.colab import drive, output\n",
        " \n",
        "class MakeButton(object):\n",
        "  def __init__(self, title, callback, style):\n",
        "    self._title = title\n",
        "    self._callback = callback\n",
        "    self._style = style\n",
        "  def _repr_html_(self):\n",
        "    callback_id = 'button-' + str(uuid.uuid4())\n",
        "    output.register_callback(callback_id, self._callback)\n",
        "    if self._style != \"\":\n",
        "      style_html = \"p-Widget jupyter-widgets jupyter-button widget-button mod-\" + self._style\n",
        "    else:\n",
        "      style_html = \"p-Widget jupyter-widgets jupyter-button widget-button\"\n",
        "    template = \"\"\"<button class=\"{style_html}\" id=\"{callback_id}\">{title}</button>\n",
        "        <script>\n",
        "          document.querySelector(\"#{callback_id}\").onclick = (e) => {{\n",
        "            google.colab.kernel.invokeFunction('{callback_id}', [], {{}})\n",
        "            e.preventDefault();\n",
        "          }};\n",
        "        </script>\"\"\"\n",
        "    html = template.format(title=self._title, callback_id=callback_id, style_html=style_html)\n",
        "    return html\n",
        "  \n",
        "def MakeLabel(description, button_style):\n",
        "  return widgets.Button(description=description, disabled=True, button_style=button_style)\n",
        "    \n",
        "def DemountForm():\n",
        "  clear_output(wait=True)\n",
        "  display(MakeLabel(\"Demount Confirm?\", \"\"), MakeButton(\"Confirm\", Demount, \"danger\"), MakeButton(\"Cancel\", ShowGD, \"warning\"))\n",
        "    \n",
        "def Demount():\n",
        "  clear_output(wait=True)\n",
        "  get_ipython().system_raw(\"pkill -9 -e -f drive\")\n",
        "  !rm -rf /root/.config/Google/DriveFS/\n",
        "  !echo \"If you want to mount Google Drive run this cell again.\"\n",
        "  \n",
        "def ShowGD():\n",
        "  try:\n",
        "    RefreshPath()\n",
        "  except:\n",
        "    clear_output(wait=True)\n",
        "  display(MakeLabel(\"Control Panel\", \"\"), MakeButton(\"Demount\", DemountForm, \"danger\"))\n",
        " \n",
        "while not os.path.exists(\"/content/drive\"):\n",
        "  try:\n",
        "    drive.mount(\"/content/drive\")\n",
        "    clear_output(wait=True)\n",
        "  except:\n",
        "    clear_output(wait=True)\n",
        "    \n",
        "ShowGD()"
      ],
      "execution_count": null,
      "outputs": []
    },
    {
      "cell_type": "code",
      "metadata": {
        "id": "HXuk1addSo3a",
        "cellView": "form"
      },
      "source": [
        "#@title <h1>Đăng nhập tài khoản\n",
        "fshare_email=\"\" #@param {type:\"string\"}\n",
        "fshare_password=\"\" #@param {type:\"string\"}\n",
        "!curl -sS https://raw.githubusercontent.com/tqtrung99/fshare2gdrive-colab/main/fshare2gdrive.js | \\\n",
        "tail -n+2 | node - login \"$fshare_email\" \"$fshare_password\""
      ],
      "execution_count": null,
      "outputs": []
    },
    {
      "cell_type": "code",
      "metadata": {
        "id": "i8GAXv_kZpyH",
        "cellView": "form"
      },
      "source": [
        "#@title <h1>Tải file\n",
        "fshare_file_url=\"\" #@param {type:\"string\"}\n",
        "folder_path=\"/content/drive/MyDrive\" #@param {type:\"string\"}\n",
        "!curl -sS https://raw.githubusercontent.com/tqtrung99/fshare2gdrive-colab/main/fshare2gdrive.js | \\\n",
        "tail -n+2 | node - \"$fshare_file_url\" \"$folder_path\" \"\" | bash -s"
      ],
      "execution_count": null,
      "outputs": []
    }
  ]
}
